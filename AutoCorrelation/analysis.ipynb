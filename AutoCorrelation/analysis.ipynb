{
 "cells": [
  {
   "cell_type": "markdown",
   "id": "ece9e7a7",
   "metadata": {},
   "source": [
    "# What is Auto Regression?\n",
    "Within Time Series Analysis there are several algorithms that computers can use to predict future values. One of these algorithms is the auto regression algorithm. The auto regression model is characterized by using previous values to make predictions of future values. For example in the stock market auto regression is used to predict the rise in stocks based on the stocks historic values. \n",
    "\n",
    "# Stock Example\n",
    "To explain further we could consider a stock with the value of $5 dollars per share. Using the auto regression model the values $1, $3 , and $4 are put into the model along with the current value of $5. For this example $1 is three months ago, $3 is two months ago, and $4 is one month ago with $5 being the present price. In order to calculate this the values would be placed in the algorithm below."
   ]
  },
  {
   "cell_type": "markdown",
   "id": "272bf177",
   "metadata": {},
   "source": [
    "$ m_{t} = \\beta_{0} + \\beta_{1}m_{t-1} + \\beta_{2}m_{t-2} + \\beta_{3}m_{t-3} + \\epsilon_{t} $"
   ]
  },
  {
   "cell_type": "markdown",
   "id": "e391a670",
   "metadata": {},
   "source": [
    "The result of this algorithm would be the predicted value of the stock.\n",
    "\n",
    "# Auto Regression in Raven\n",
    "For the purposes of Raven, auto regression works similarly to wavelet, and fourier transformation. The auto regression algorithm takes signals from the reactor as input. Then, based on this input, the algorithm characterizes the input and makes a prediction of expected signals in the future. This adds a furhter layer to protection to the reactor and further applicability to Raven."
   ]
  },
  {
   "cell_type": "markdown",
   "id": "0e540787",
   "metadata": {},
   "source": [
    "# Code\n",
    "Below is code related to the auto regession algorithm and a demonstration of its functionality. For demonstration purposes statsmodel is being used to predict the price of gamestop."
   ]
  },
  {
   "cell_type": "code",
   "execution_count": 2,
   "id": "510e7eb2",
   "metadata": {},
   "outputs": [
    {
     "name": "stdout",
     "output_type": "stream",
     "text": [
      "Requirement already satisfied: statsmodels in c:\\users\\admin\\miniconda3\\lib\\site-packages (0.12.2)\n",
      "Requirement already satisfied: numpy>=1.15 in c:\\users\\admin\\miniconda3\\lib\\site-packages (from statsmodels) (1.20.2)\n",
      "Requirement already satisfied: patsy>=0.5 in c:\\users\\admin\\miniconda3\\lib\\site-packages (from statsmodels) (0.5.1)\n",
      "Requirement already satisfied: scipy>=1.1 in c:\\users\\admin\\miniconda3\\lib\\site-packages (from statsmodels) (1.6.2)\n",
      "Requirement already satisfied: pandas>=0.21 in c:\\users\\admin\\miniconda3\\lib\\site-packages (from statsmodels) (1.2.4)\n",
      "Requirement already satisfied: numpy>=1.15 in c:\\users\\admin\\miniconda3\\lib\\site-packages (from statsmodels) (1.20.2)\n",
      "Requirement already satisfied: pytz>=2017.3 in c:\\users\\admin\\miniconda3\\lib\\site-packages (from pandas>=0.21->statsmodels) (2021.1)\n",
      "Requirement already satisfied: python-dateutil>=2.7.3 in c:\\users\\admin\\miniconda3\\lib\\site-packages (from pandas>=0.21->statsmodels) (2.8.1)\n",
      "Requirement already satisfied: numpy>=1.15 in c:\\users\\admin\\miniconda3\\lib\\site-packages (from statsmodels) (1.20.2)\n",
      "Requirement already satisfied: six in c:\\users\\admin\\miniconda3\\lib\\site-packages (from patsy>=0.5->statsmodels) (1.15.0)\n",
      "Requirement already satisfied: six in c:\\users\\admin\\miniconda3\\lib\\site-packages (from patsy>=0.5->statsmodels) (1.15.0)\n",
      "Requirement already satisfied: numpy>=1.15 in c:\\users\\admin\\miniconda3\\lib\\site-packages (from statsmodels) (1.20.2)\n",
      "Requirement already satisfied: matplotlib in c:\\users\\admin\\miniconda3\\lib\\site-packages (3.4.1)\n",
      "Requirement already satisfied: pyparsing>=2.2.1 in c:\\users\\admin\\miniconda3\\lib\\site-packages (from matplotlib) (2.4.7)\n",
      "Requirement already satisfied: python-dateutil>=2.7 in c:\\users\\admin\\miniconda3\\lib\\site-packages (from matplotlib) (2.8.1)\n",
      "Requirement already satisfied: kiwisolver>=1.0.1 in c:\\users\\admin\\miniconda3\\lib\\site-packages (from matplotlib) (1.3.1)\n",
      "Requirement already satisfied: pillow>=6.2.0 in c:\\users\\admin\\miniconda3\\lib\\site-packages (from matplotlib) (8.2.0)\n",
      "Requirement already satisfied: cycler>=0.10 in c:\\users\\admin\\miniconda3\\lib\\site-packages (from matplotlib) (0.10.0)\n",
      "Requirement already satisfied: numpy>=1.16 in c:\\users\\admin\\miniconda3\\lib\\site-packages (from matplotlib) (1.20.2)\n",
      "Requirement already satisfied: six in c:\\users\\admin\\miniconda3\\lib\\site-packages (from cycler>=0.10->matplotlib) (1.15.0)\n",
      "Requirement already satisfied: six in c:\\users\\admin\\miniconda3\\lib\\site-packages (from cycler>=0.10->matplotlib) (1.15.0)\n"
     ]
    }
   ],
   "source": [
    "!pip install statsmodels\n",
    "!pip install matplotlib\n",
    "\n",
    "import numpy as np\n",
    "import pandas as pd\n",
    "import matplotlib.pyplot as plt\n",
    "import statsmodels.tsa.stattools as sm"
   ]
  },
  {
   "cell_type": "code",
   "execution_count": 3,
   "id": "7badd208",
   "metadata": {},
   "outputs": [
    {
     "data": {
      "text/html": [
       "<div>\n",
       "<style scoped>\n",
       "    .dataframe tbody tr th:only-of-type {\n",
       "        vertical-align: middle;\n",
       "    }\n",
       "\n",
       "    .dataframe tbody tr th {\n",
       "        vertical-align: top;\n",
       "    }\n",
       "\n",
       "    .dataframe thead th {\n",
       "        text-align: right;\n",
       "    }\n",
       "</style>\n",
       "<table border=\"1\" class=\"dataframe\">\n",
       "  <thead>\n",
       "    <tr style=\"text-align: right;\">\n",
       "      <th></th>\n",
       "      <th>Date</th>\n",
       "      <th>Open</th>\n",
       "      <th>High</th>\n",
       "      <th>Low</th>\n",
       "      <th>Close</th>\n",
       "      <th>Adj Close</th>\n",
       "      <th>Volume</th>\n",
       "    </tr>\n",
       "  </thead>\n",
       "  <tbody>\n",
       "    <tr>\n",
       "      <th>0</th>\n",
       "      <td>2002-02-13</td>\n",
       "      <td>9.625000</td>\n",
       "      <td>10.060000</td>\n",
       "      <td>9.525000</td>\n",
       "      <td>10.050000</td>\n",
       "      <td>6.766666</td>\n",
       "      <td>19054000</td>\n",
       "    </tr>\n",
       "    <tr>\n",
       "      <th>1</th>\n",
       "      <td>2002-02-14</td>\n",
       "      <td>10.175000</td>\n",
       "      <td>10.195000</td>\n",
       "      <td>9.925000</td>\n",
       "      <td>10.000000</td>\n",
       "      <td>6.733003</td>\n",
       "      <td>2755400</td>\n",
       "    </tr>\n",
       "    <tr>\n",
       "      <th>2</th>\n",
       "      <td>2002-02-15</td>\n",
       "      <td>10.000000</td>\n",
       "      <td>10.025000</td>\n",
       "      <td>9.850000</td>\n",
       "      <td>9.950000</td>\n",
       "      <td>6.699336</td>\n",
       "      <td>2097400</td>\n",
       "    </tr>\n",
       "    <tr>\n",
       "      <th>3</th>\n",
       "      <td>2002-02-19</td>\n",
       "      <td>9.900000</td>\n",
       "      <td>9.900000</td>\n",
       "      <td>9.375000</td>\n",
       "      <td>9.550000</td>\n",
       "      <td>6.430017</td>\n",
       "      <td>1852600</td>\n",
       "    </tr>\n",
       "    <tr>\n",
       "      <th>4</th>\n",
       "      <td>2002-02-20</td>\n",
       "      <td>9.600000</td>\n",
       "      <td>9.875000</td>\n",
       "      <td>9.525000</td>\n",
       "      <td>9.875000</td>\n",
       "      <td>6.648838</td>\n",
       "      <td>1723200</td>\n",
       "    </tr>\n",
       "    <tr>\n",
       "      <th>...</th>\n",
       "      <td>...</td>\n",
       "      <td>...</td>\n",
       "      <td>...</td>\n",
       "      <td>...</td>\n",
       "      <td>...</td>\n",
       "      <td>...</td>\n",
       "      <td>...</td>\n",
       "    </tr>\n",
       "    <tr>\n",
       "      <th>4823</th>\n",
       "      <td>2021-04-13</td>\n",
       "      <td>141.880005</td>\n",
       "      <td>145.380005</td>\n",
       "      <td>132.000000</td>\n",
       "      <td>140.990005</td>\n",
       "      <td>140.990005</td>\n",
       "      <td>6806900</td>\n",
       "    </tr>\n",
       "    <tr>\n",
       "      <th>4824</th>\n",
       "      <td>2021-04-14</td>\n",
       "      <td>143.570007</td>\n",
       "      <td>174.089996</td>\n",
       "      <td>143.000000</td>\n",
       "      <td>166.529999</td>\n",
       "      <td>166.529999</td>\n",
       "      <td>21138100</td>\n",
       "    </tr>\n",
       "    <tr>\n",
       "      <th>4825</th>\n",
       "      <td>2021-04-15</td>\n",
       "      <td>163.000000</td>\n",
       "      <td>166.250000</td>\n",
       "      <td>152.800003</td>\n",
       "      <td>156.440002</td>\n",
       "      <td>156.440002</td>\n",
       "      <td>7856800</td>\n",
       "    </tr>\n",
       "    <tr>\n",
       "      <th>4826</th>\n",
       "      <td>2021-04-16</td>\n",
       "      <td>156.000000</td>\n",
       "      <td>160.199997</td>\n",
       "      <td>151.250000</td>\n",
       "      <td>154.690002</td>\n",
       "      <td>154.690002</td>\n",
       "      <td>5139700</td>\n",
       "    </tr>\n",
       "    <tr>\n",
       "      <th>4827</th>\n",
       "      <td>2021-04-19</td>\n",
       "      <td>171.800003</td>\n",
       "      <td>175.199997</td>\n",
       "      <td>162.330002</td>\n",
       "      <td>164.369995</td>\n",
       "      <td>164.369995</td>\n",
       "      <td>10494800</td>\n",
       "    </tr>\n",
       "  </tbody>\n",
       "</table>\n",
       "<p>4828 rows × 7 columns</p>\n",
       "</div>"
      ],
      "text/plain": [
       "            Date        Open        High         Low       Close   Adj Close  \\\n",
       "0     2002-02-13    9.625000   10.060000    9.525000   10.050000    6.766666   \n",
       "1     2002-02-14   10.175000   10.195000    9.925000   10.000000    6.733003   \n",
       "2     2002-02-15   10.000000   10.025000    9.850000    9.950000    6.699336   \n",
       "3     2002-02-19    9.900000    9.900000    9.375000    9.550000    6.430017   \n",
       "4     2002-02-20    9.600000    9.875000    9.525000    9.875000    6.648838   \n",
       "...          ...         ...         ...         ...         ...         ...   \n",
       "4823  2021-04-13  141.880005  145.380005  132.000000  140.990005  140.990005   \n",
       "4824  2021-04-14  143.570007  174.089996  143.000000  166.529999  166.529999   \n",
       "4825  2021-04-15  163.000000  166.250000  152.800003  156.440002  156.440002   \n",
       "4826  2021-04-16  156.000000  160.199997  151.250000  154.690002  154.690002   \n",
       "4827  2021-04-19  171.800003  175.199997  162.330002  164.369995  164.369995   \n",
       "\n",
       "        Volume  \n",
       "0     19054000  \n",
       "1      2755400  \n",
       "2      2097400  \n",
       "3      1852600  \n",
       "4      1723200  \n",
       "...        ...  \n",
       "4823   6806900  \n",
       "4824  21138100  \n",
       "4825   7856800  \n",
       "4826   5139700  \n",
       "4827  10494800  \n",
       "\n",
       "[4828 rows x 7 columns]"
      ]
     },
     "execution_count": 3,
     "metadata": {},
     "output_type": "execute_result"
    }
   ],
   "source": [
    "df = pd.read_csv(\"GME.csv\")\n",
    "df"
   ]
  },
  {
   "cell_type": "code",
   "execution_count": 4,
   "id": "5cf07f71",
   "metadata": {},
   "outputs": [
    {
     "data": {
      "text/plain": [
       "0        10.050000\n",
       "1        10.000000\n",
       "2         9.950000\n",
       "3         9.550000\n",
       "4         9.875000\n",
       "           ...    \n",
       "4823    140.990005\n",
       "4824    166.529999\n",
       "4825    156.440002\n",
       "4826    154.690002\n",
       "4827    164.369995\n",
       "Name: Close, Length: 4828, dtype: float64"
      ]
     },
     "execution_count": 4,
     "metadata": {},
     "output_type": "execute_result"
    }
   ],
   "source": [
    "df.Close\n"
   ]
  },
  {
   "cell_type": "code",
   "execution_count": 5,
   "id": "52397675",
   "metadata": {},
   "outputs": [
    {
     "name": "stderr",
     "output_type": "stream",
     "text": [
      "C:\\Users\\Admin\\miniconda3\\lib\\site-packages\\statsmodels\\tsa\\stattools.py:657: FutureWarning: The default number of lags is changing from 40 tomin(int(10 * np.log10(nobs)), nobs - 1) after 0.12is released. Set the number of lags to an integer to  silence this warning.\n",
      "  warnings.warn(\n",
      "C:\\Users\\Admin\\miniconda3\\lib\\site-packages\\statsmodels\\tsa\\stattools.py:667: FutureWarning: fft=True will become the default after the release of the 0.12 release of statsmodels. To suppress this warning, explicitly set fft=False.\n",
      "  warnings.warn(\n"
     ]
    },
    {
     "data": {
      "text/plain": [
       "array([1.        , 0.96163672, 0.94032051, 0.90759507, 0.86525173,\n",
       "       0.84570452, 0.82642796, 0.81102871, 0.7963849 , 0.77971913,\n",
       "       0.76252017, 0.74649714, 0.73119719, 0.71661371, 0.70270564,\n",
       "       0.69175009, 0.68396119, 0.67969001, 0.67721229, 0.67362026,\n",
       "       0.66842956, 0.65920376, 0.65240774, 0.64425756, 0.6397996 ,\n",
       "       0.64048073, 0.63706436, 0.63376552, 0.62761355, 0.61407701,\n",
       "       0.59679827, 0.58475629, 0.5693478 , 0.55803123, 0.54769637,\n",
       "       0.53703752, 0.524165  , 0.51217173, 0.50728792, 0.49842429,\n",
       "       0.50132352])"
      ]
     },
     "execution_count": 5,
     "metadata": {},
     "output_type": "execute_result"
    }
   ],
   "source": [
    "signal = df.Close\n",
    "da = sm.acf(signal)\n",
    "da"
   ]
  },
  {
   "cell_type": "code",
   "execution_count": 6,
   "id": "6b65ad7f",
   "metadata": {},
   "outputs": [
    {
     "data": {
      "image/png": "[encoded data removed]",
      "text/plain": [
       "<Figure size 432x288 with 1 Axes>"
      ]
     },
     "metadata": {
      "needs_background": "light"
     },
     "output_type": "display_data"
    }
   ],
   "source": [
    "x = []\n",
    "i = 0\n",
    "\n",
    "for i in range(len(da)):\n",
    "    x.append(i)\n",
    "    \n",
    "y=da\n",
    "\n",
    "plt.plot(x, y)\n",
    "\n",
    "# naming the x axis\n",
    "plt.xlabel('Time')\n",
    "# naming the y axis\n",
    "plt.ylabel('AutoRegression')\n",
    "  \n",
    "# giving a title to my graph\n",
    "plt.title('Stock Auto Regression')\n",
    "  \n",
    "# function to show the plot\n",
    "plt.show()"
   ]
  },
  {
   "cell_type": "markdown",
   "id": "3e8f3290",
   "metadata": {},
   "source": [
    "Below is a second example of Auto Regression. This time predictions for the Tesla stock price is being used."
   ]
  },
  {
   "cell_type": "code",
   "execution_count": 7,
   "id": "b450ae3b",
   "metadata": {},
   "outputs": [
    {
     "data": {
      "text/html": [
       "<div>\n",
       "<style scoped>\n",
       "    .dataframe tbody tr th:only-of-type {\n",
       "        vertical-align: middle;\n",
       "    }\n",
       "\n",
       "    .dataframe tbody tr th {\n",
       "        vertical-align: top;\n",
       "    }\n",
       "\n",
       "    .dataframe thead th {\n",
       "        text-align: right;\n",
       "    }\n",
       "</style>\n",
       "<table border=\"1\" class=\"dataframe\">\n",
       "  <thead>\n",
       "    <tr style=\"text-align: right;\">\n",
       "      <th></th>\n",
       "      <th>Date</th>\n",
       "      <th>Open</th>\n",
       "      <th>High</th>\n",
       "      <th>Low</th>\n",
       "      <th>Close</th>\n",
       "      <th>Adj Close</th>\n",
       "      <th>Volume</th>\n",
       "    </tr>\n",
       "  </thead>\n",
       "  <tbody>\n",
       "    <tr>\n",
       "      <th>0</th>\n",
       "      <td>2010-06-29</td>\n",
       "      <td>3.800000</td>\n",
       "      <td>5.000000</td>\n",
       "      <td>3.508000</td>\n",
       "      <td>4.778000</td>\n",
       "      <td>4.778000</td>\n",
       "      <td>93831500</td>\n",
       "    </tr>\n",
       "    <tr>\n",
       "      <th>1</th>\n",
       "      <td>2010-06-30</td>\n",
       "      <td>5.158000</td>\n",
       "      <td>6.084000</td>\n",
       "      <td>4.660000</td>\n",
       "      <td>4.766000</td>\n",
       "      <td>4.766000</td>\n",
       "      <td>85935500</td>\n",
       "    </tr>\n",
       "    <tr>\n",
       "      <th>2</th>\n",
       "      <td>2010-07-01</td>\n",
       "      <td>5.000000</td>\n",
       "      <td>5.184000</td>\n",
       "      <td>4.054000</td>\n",
       "      <td>4.392000</td>\n",
       "      <td>4.392000</td>\n",
       "      <td>41094000</td>\n",
       "    </tr>\n",
       "    <tr>\n",
       "      <th>3</th>\n",
       "      <td>2010-07-02</td>\n",
       "      <td>4.600000</td>\n",
       "      <td>4.620000</td>\n",
       "      <td>3.742000</td>\n",
       "      <td>3.840000</td>\n",
       "      <td>3.840000</td>\n",
       "      <td>25699000</td>\n",
       "    </tr>\n",
       "    <tr>\n",
       "      <th>4</th>\n",
       "      <td>2010-07-06</td>\n",
       "      <td>4.000000</td>\n",
       "      <td>4.000000</td>\n",
       "      <td>3.166000</td>\n",
       "      <td>3.222000</td>\n",
       "      <td>3.222000</td>\n",
       "      <td>34334500</td>\n",
       "    </tr>\n",
       "    <tr>\n",
       "      <th>...</th>\n",
       "      <td>...</td>\n",
       "      <td>...</td>\n",
       "      <td>...</td>\n",
       "      <td>...</td>\n",
       "      <td>...</td>\n",
       "      <td>...</td>\n",
       "      <td>...</td>\n",
       "    </tr>\n",
       "    <tr>\n",
       "      <th>2716</th>\n",
       "      <td>2021-04-14</td>\n",
       "      <td>770.700012</td>\n",
       "      <td>780.789978</td>\n",
       "      <td>728.030029</td>\n",
       "      <td>732.229980</td>\n",
       "      <td>732.229980</td>\n",
       "      <td>49017400</td>\n",
       "    </tr>\n",
       "    <tr>\n",
       "      <th>2717</th>\n",
       "      <td>2021-04-15</td>\n",
       "      <td>743.099976</td>\n",
       "      <td>743.690002</td>\n",
       "      <td>721.309998</td>\n",
       "      <td>738.849976</td>\n",
       "      <td>738.849976</td>\n",
       "      <td>27848900</td>\n",
       "    </tr>\n",
       "    <tr>\n",
       "      <th>2718</th>\n",
       "      <td>2021-04-16</td>\n",
       "      <td>728.650024</td>\n",
       "      <td>749.409973</td>\n",
       "      <td>724.599976</td>\n",
       "      <td>739.780029</td>\n",
       "      <td>739.780029</td>\n",
       "      <td>27924000</td>\n",
       "    </tr>\n",
       "    <tr>\n",
       "      <th>2719</th>\n",
       "      <td>2021-04-19</td>\n",
       "      <td>719.599976</td>\n",
       "      <td>725.400024</td>\n",
       "      <td>691.799988</td>\n",
       "      <td>714.630005</td>\n",
       "      <td>714.630005</td>\n",
       "      <td>39686200</td>\n",
       "    </tr>\n",
       "    <tr>\n",
       "      <th>2720</th>\n",
       "      <td>2021-04-20</td>\n",
       "      <td>717.419983</td>\n",
       "      <td>737.250000</td>\n",
       "      <td>710.690002</td>\n",
       "      <td>718.989990</td>\n",
       "      <td>718.989990</td>\n",
       "      <td>35550500</td>\n",
       "    </tr>\n",
       "  </tbody>\n",
       "</table>\n",
       "<p>2721 rows × 7 columns</p>\n",
       "</div>"
      ],
      "text/plain": [
       "            Date        Open        High         Low       Close   Adj Close  \\\n",
       "0     2010-06-29    3.800000    5.000000    3.508000    4.778000    4.778000   \n",
       "1     2010-06-30    5.158000    6.084000    4.660000    4.766000    4.766000   \n",
       "2     2010-07-01    5.000000    5.184000    4.054000    4.392000    4.392000   \n",
       "3     2010-07-02    4.600000    4.620000    3.742000    3.840000    3.840000   \n",
       "4     2010-07-06    4.000000    4.000000    3.166000    3.222000    3.222000   \n",
       "...          ...         ...         ...         ...         ...         ...   \n",
       "2716  2021-04-14  770.700012  780.789978  728.030029  732.229980  732.229980   \n",
       "2717  2021-04-15  743.099976  743.690002  721.309998  738.849976  738.849976   \n",
       "2718  2021-04-16  728.650024  749.409973  724.599976  739.780029  739.780029   \n",
       "2719  2021-04-19  719.599976  725.400024  691.799988  714.630005  714.630005   \n",
       "2720  2021-04-20  717.419983  737.250000  710.690002  718.989990  718.989990   \n",
       "\n",
       "        Volume  \n",
       "0     93831500  \n",
       "1     85935500  \n",
       "2     41094000  \n",
       "3     25699000  \n",
       "4     34334500  \n",
       "...        ...  \n",
       "2716  49017400  \n",
       "2717  27848900  \n",
       "2718  27924000  \n",
       "2719  39686200  \n",
       "2720  35550500  \n",
       "\n",
       "[2721 rows x 7 columns]"
      ]
     },
     "execution_count": 7,
     "metadata": {},
     "output_type": "execute_result"
    }
   ],
   "source": [
    "df = pd.read_csv(\"TSLA.csv\")\n",
    "df"
   ]
  },
  {
   "cell_type": "code",
   "execution_count": 8,
   "id": "9f4f8562",
   "metadata": {},
   "outputs": [
    {
     "data": {
      "text/plain": [
       "0         4.778000\n",
       "1         4.766000\n",
       "2         4.392000\n",
       "3         3.840000\n",
       "4         3.222000\n",
       "           ...    \n",
       "2716    732.229980\n",
       "2717    738.849976\n",
       "2718    739.780029\n",
       "2719    714.630005\n",
       "2720    718.989990\n",
       "Name: Close, Length: 2721, dtype: float64"
      ]
     },
     "execution_count": 8,
     "metadata": {},
     "output_type": "execute_result"
    }
   ],
   "source": [
    "df.Close"
   ]
  },
  {
   "cell_type": "code",
   "execution_count": 9,
   "id": "ea750d16",
   "metadata": {},
   "outputs": [
    {
     "name": "stderr",
     "output_type": "stream",
     "text": [
      "C:\\Users\\Admin\\miniconda3\\lib\\site-packages\\statsmodels\\tsa\\stattools.py:657: FutureWarning: The default number of lags is changing from 40 tomin(int(10 * np.log10(nobs)), nobs - 1) after 0.12is released. Set the number of lags to an integer to  silence this warning.\n",
      "  warnings.warn(\n",
      "C:\\Users\\Admin\\miniconda3\\lib\\site-packages\\statsmodels\\tsa\\stattools.py:667: FutureWarning: fft=True will become the default after the release of the 0.12 release of statsmodels. To suppress this warning, explicitly set fft=False.\n",
      "  warnings.warn(\n"
     ]
    },
    {
     "data": {
      "text/plain": [
       "array([1.        , 0.99515591, 0.99053214, 0.98568093, 0.98063841,\n",
       "       0.9756004 , 0.97054434, 0.96601566, 0.96180093, 0.95735553,\n",
       "       0.95278823, 0.94789121, 0.94312625, 0.93862088, 0.93390359,\n",
       "       0.92987236, 0.92600474, 0.92184382, 0.91749147, 0.91317816,\n",
       "       0.9087005 , 0.90414314, 0.89944075, 0.89481   , 0.88980965,\n",
       "       0.88469171, 0.87919474, 0.87406385, 0.86907324, 0.86443126,\n",
       "       0.8595774 , 0.85594835, 0.8518261 , 0.84741362, 0.84260157,\n",
       "       0.83727537, 0.83188455, 0.82710072, 0.82216904, 0.81646164,\n",
       "       0.81143954])"
      ]
     },
     "execution_count": 9,
     "metadata": {},
     "output_type": "execute_result"
    }
   ],
   "source": [
    "signal = df.Close\n",
    "da = sm.acf(signal)\n",
    "da"
   ]
  },
  {
   "cell_type": "code",
   "execution_count": 10,
   "id": "c651eed6",
   "metadata": {},
   "outputs": [
    {
     "data": {
      "image/png": "[encoded data removed]",
      "text/plain": [
       "<Figure size 432x288 with 1 Axes>"
      ]
     },
     "metadata": {
      "needs_background": "light"
     },
     "output_type": "display_data"
    }
   ],
   "source": [
    "x = []\n",
    "i = 0\n",
    "\n",
    "for i in range(len(da)):\n",
    "    x.append(i)\n",
    "    \n",
    "y=da\n",
    "\n",
    "plt.plot(x, y)\n",
    "\n",
    "# naming the x axis\n",
    "plt.xlabel('Time')\n",
    "# naming the y axis\n",
    "plt.ylabel('AutoRegression')\n",
    "  \n",
    "# giving a title to my graph\n",
    "plt.title('Stock Auto Regression')\n",
    "  \n",
    "# function to show the plot\n",
    "plt.show()"
   ]
  },
  {
   "cell_type": "code",
   "execution_count": null,
   "id": "8ca18551",
   "metadata": {},
   "outputs": [],
   "source": []
  }
 ],
 "metadata": {
  "kernelspec": {
   "display_name": "Python 3",
   "language": "python",
   "name": "python3"
  },
  "language_info": {
   "codemirror_mode": {
    "name": "ipython",
    "version": 3
   },
   "file_extension": ".py",
   "mimetype": "text/x-python",
   "name": "python",
   "nbconvert_exporter": "python",
   "pygments_lexer": "ipython3",
   "version": "3.9.1"
  }
 },
 "nbformat": 4,
 "nbformat_minor": 5
}
