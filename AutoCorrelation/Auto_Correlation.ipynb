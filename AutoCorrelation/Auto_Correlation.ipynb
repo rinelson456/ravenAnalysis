{
 "cells": [
  {
   "cell_type": "markdown",
   "id": "ece9e7a7",
   "metadata": {},
   "source": [
    "# What is Auto Regression?\n",
    "Within Time Series Analysis there are several algorithms that computers can use to predict future values. One of these algorithms is the auto regression algorithm. The auto regression model is characterized by using previous values to make predictions of future values. For example in the stock market auto regression is used to predict the rise in stocks based on the stocks historic values. \n",
    "\n",
    "# Stock Example\n",
    "To explain further we could consider a stock with the value of $5 dollars per share. Using the auto regression model the values $1, $3 , and $4 are put into the model along with the current value of $5. For this example $1 is three months ago, $3 is two months ago, and $4 is one month ago with $5 being the present price. In order to calculate this the values would be placed in the algorithm below."
   ]
  },
  {
   "cell_type": "markdown",
   "id": "272bf177",
   "metadata": {},
   "source": [
    "$ m_{t} = \\beta_{0} + \\beta_{1}m_{t-1} + \\beta_{2}m_{t-2} + \\beta_{3}m_{t-3} + \\epsilon_{t} $"
   ]
  },
  {
   "cell_type": "markdown",
   "id": "e391a670",
   "metadata": {},
   "source": [
    "The result of this algorithm would be the predicted value of the stock.\n",
    "\n",
    "# Auto Regression in Raven\n",
    "For the purposes of Raven, auto regression works similarly to wavelet, and fourier transformation. The auto regression algorithm takes signals from the reactor as input. Then, based on this input, the algorithm characterizes the input and makes a prediction of expected signals in the future. This adds a furhter layer to protection to the reactor and further applicability to Raven."
   ]
  },
  {
   "cell_type": "markdown",
   "id": "0e540787",
   "metadata": {},
   "source": [
    "# Code\n",
    "Below is code related to the auto regession algorithm and a demonstration of its functionality. For demonstration purposes statsmodel is being used to predict the price of gamestop."
   ]
  },
  {
   "cell_type": "code",
   "execution_count": 1,
   "id": "510e7eb2",
   "metadata": {},
   "outputs": [],
   "source": [
    "%%capture\n",
    "#Install and Import the needed libraries and tools.\n",
    "!pip install statsmodels\n",
    "!pip install matplotlib\n",
    "\n",
    "import numpy as np\n",
    "import pandas as pd\n",
    "import matplotlib.pyplot as plt\n",
    "import statsmodels.tsa.stattools as sm\n",
    "import statsmodels.graphics.tsaplots as sp\n",
    "import warnings\n",
    "warnings.filterwarnings('ignore')"
   ]
  },
  {
   "cell_type": "code",
   "execution_count": 2,
   "id": "7badd208",
   "metadata": {},
   "outputs": [],
   "source": [
    "#read the original dataset\n",
    "df = pd.read_csv(\"raw_data/GME.csv\")"
   ]
  },
  {
   "cell_type": "code",
   "execution_count": 3,
   "id": "8389f6d1",
   "metadata": {},
   "outputs": [],
   "source": [
    "#read the modified input for Raven.\n",
    "df = pd.read_csv(\"raw_data/gameStopInput.csv\")"
   ]
  },
  {
   "cell_type": "code",
   "execution_count": 4,
   "id": "b716b39b",
   "metadata": {},
   "outputs": [],
   "source": [
    "#pass the input into the acf function, this is the same function that is used in Raven.\n",
    "array = sm.acf(df.y[1:2600], nlags=26000)"
   ]
  },
  {
   "cell_type": "code",
   "execution_count": 5,
   "id": "3c818fa6",
   "metadata": {},
   "outputs": [],
   "source": [
    "#create a new dataset to graph x and y.\n",
    "xAfter=[]\n",
    "yAfter=[]\n",
    "for i in range(len(array)):\n",
    "    xAfter.append(i)\n",
    "    yAfter.append(array[i])\n"
   ]
  },
  {
   "cell_type": "code",
   "execution_count": 6,
   "id": "588cf857",
   "metadata": {},
   "outputs": [],
   "source": [
    "#set the dataset to our x and y values.\n",
    "x = np.array(xAfter)\n",
    "y = np.array(yAfter)\n",
    "dataset = pd.DataFrame({'x': x, 'y': y}, columns=['x', 'y'])"
   ]
  },
  {
   "cell_type": "markdown",
   "id": "aa7d3856",
   "metadata": {},
   "source": [
    "The graph below shows the autocorrelation factor that is produced from the gamestop data."
   ]
  },
  {
   "cell_type": "code",
   "execution_count": 7,
   "id": "672aaba7",
   "metadata": {},
   "outputs": [
    {
     "data": {
      "image/png": "[encoded data removed]",
      "text/plain": [
       "<Figure size 432x288 with 1 Axes>"
      ]
     },
     "metadata": {
      "needs_background": "light"
     },
     "output_type": "display_data"
    }
   ],
   "source": [
    "#graph our x and y values\n",
    "sp.plot_acf(array)\n",
    "plt.show()"
   ]
  },
  {
   "cell_type": "markdown",
   "id": "6749ede9",
   "metadata": {},
   "source": [
    "The chart below shows the gamestop stock data next to the autocorrelation results. Gamestop data is shown in red and autocorrelation results are shown in blue."
   ]
  },
  {
   "cell_type": "code",
   "execution_count": 8,
   "id": "6b65ad7f",
   "metadata": {},
   "outputs": [
    {
     "data": {
      "image/png": "[encoded data removed]",
      "text/plain": [
       "<Figure size 432x288 with 1 Axes>"
      ]
     },
     "metadata": {
      "needs_background": "light"
     },
     "output_type": "display_data"
    }
   ],
   "source": [
    "#Graph the autocorrelation next to the original data.\n",
    "x = df.x\n",
    "y = df.y\n",
    "\n",
    "dat = pd.DataFrame({'x': x, 'y': y})\n",
    "dat.to_csv('raw_data/gameStop.csv', index=False)\n",
    "\n",
    "\n",
    "plt.plot(x, y, 'o', alpha=0.5, color='red')\n",
    "plt.plot(dataset.x, dataset.y)\n",
    "plt.show()"
   ]
  },
  {
   "cell_type": "markdown",
   "id": "3e8f3290",
   "metadata": {},
   "source": [
    "Below is a second example of Auto Regression. This time predictions for the Tesla stock price is being used."
   ]
  },
  {
   "cell_type": "markdown",
   "id": "bcc12428",
   "metadata": {},
   "source": [
    "# Auto Regression in Raven\n",
    "\n",
    "This is a visual representation of what Raven is doing with the same dataset, Gamestop."
   ]
  },
  {
   "cell_type": "code",
   "execution_count": 9,
   "id": "ea5f7b14",
   "metadata": {},
   "outputs": [],
   "source": [
    "#Read the input for Raven\n",
    "df = pd.read_csv(\"raw_data/gameStopInput.csv\")"
   ]
  },
  {
   "cell_type": "code",
   "execution_count": 10,
   "id": "bdaebdff",
   "metadata": {},
   "outputs": [],
   "source": [
    "#Read the results from Raven.\n",
    "dataset = pd.read_csv(\"raw_data/GameStopResults.csv\")"
   ]
  },
  {
   "cell_type": "markdown",
   "id": "d93436e3",
   "metadata": {},
   "source": [
    "As shown before here is the gamestop stock data next to the produced autocorrelation values."
   ]
  },
  {
   "cell_type": "code",
   "execution_count": 11,
   "id": "b91a8da1",
   "metadata": {},
   "outputs": [
    {
     "data": {
      "image/png": "[encoded data removed]",
      "text/plain": [
       "<Figure size 432x288 with 1 Axes>"
      ]
     },
     "metadata": {
      "needs_background": "light"
     },
     "output_type": "display_data"
    }
   ],
   "source": [
    "#graph the original value next to the autocorrelation output.\n",
    "x = df.x\n",
    "y = df.y\n",
    "\n",
    "\n",
    "dat = pd.DataFrame({'x': x, 'y': y})\n",
    "dat.to_csv('raw_data/gameStop.csv', index=False)\n",
    "\n",
    "\n",
    "plt.plot(x, y, 'o', alpha=0.5, color='red')\n",
    "plt.plot(dataset.x, dataset.y)\n",
    "plt.show()"
   ]
  },
  {
   "cell_type": "markdown",
   "id": "c8397770",
   "metadata": {},
   "source": [
    "The above graph shows the autocorrelation compared to the price of gamestop. This is not a very good representation of autocorrelation however, a better description can be found in the graph below."
   ]
  },
  {
   "cell_type": "code",
   "execution_count": 12,
   "id": "00402b4d",
   "metadata": {},
   "outputs": [
    {
     "data": {
      "image/png": "[encoded data removed]",
      "text/plain": [
       "<Figure size 432x288 with 1 Axes>"
      ]
     },
     "metadata": {
      "needs_background": "light"
     },
     "output_type": "display_data"
    }
   ],
   "source": [
    "#Graph the autocorrelation values.\n",
    "sp.plot_acf(dataset.y)\n",
    "plt.show()"
   ]
  },
  {
   "cell_type": "markdown",
   "id": "fa422f59",
   "metadata": {},
   "source": [
    "The graph above depicts autocorrelation in a more understandable way. If we adjust the parameters to more specific instances such as from 2500 to 2600 the autocorrelation values will also change for example the slope may be steeper or more gradual depending on the prices within the 2500 to 2600 range. "
   ]
  },
  {
   "cell_type": "code",
   "execution_count": 13,
   "id": "a622ef3e",
   "metadata": {},
   "outputs": [],
   "source": [
    "#Pass the values into the acf the only difference is the range is smaller.\n",
    "array = sm.acf(dataset.y[1:100], nlags=100)"
   ]
  },
  {
   "cell_type": "code",
   "execution_count": 14,
   "id": "f854c359",
   "metadata": {},
   "outputs": [
    {
     "data": {
      "image/png": "[encoded data removed]",
      "text/plain": [
       "<Figure size 432x288 with 1 Axes>"
      ]
     },
     "metadata": {
      "needs_background": "light"
     },
     "output_type": "display_data"
    }
   ],
   "source": [
    "#With a shorter range we can see that the autocorrelation values become much steeper.\n",
    "sp.plot_acf(array)\n",
    "plt.show()"
   ]
  },
  {
   "cell_type": "markdown",
   "id": "dfbaf3c4",
   "metadata": {},
   "source": [
    "As we can see with a y range from 1 to 100 the slope of autocorrelation becomes much steeper."
   ]
  }
 ],
 "metadata": {
  "kernelspec": {
   "display_name": "Python 3",
   "language": "python",
   "name": "python3"
  },
  "language_info": {
   "codemirror_mode": {
    "name": "ipython",
    "version": 3
   },
   "file_extension": ".py",
   "mimetype": "text/x-python",
   "name": "python",
   "nbconvert_exporter": "python",
   "pygments_lexer": "ipython3",
   "version": "3.9.1"
  }
 },
 "nbformat": 4,
 "nbformat_minor": 5
}
