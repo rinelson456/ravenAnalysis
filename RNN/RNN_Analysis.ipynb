{
 "cells": [
  {
   "cell_type": "markdown",
   "id": "702af1c1",
   "metadata": {},
   "source": [
    "# RNN Analysis\n",
    "Reccurrent Neural Networks (RNN) are used in a wide variety of needs. Most likely you have encountered RNNs in the form of Alexa or Siri. Both tools utilize RNNs to perform voice recognition tasks. In Raven RNNs are planned to be deployed to further characterize signals from reactors and alert operators to anomalies. In this review of RNNs we will show a method of using an RNN to characterize a dataset and show how it may be used in Raven."
   ]
  },
  {
   "cell_type": "markdown",
   "id": "a67b838f",
   "metadata": {},
   "source": [
    "Firstly we need to import the necessary libraries and tools to implement our RNN."
   ]
  },
  {
   "cell_type": "code",
   "execution_count": 25,
   "id": "25a10bac",
   "metadata": {},
   "outputs": [],
   "source": [
    "%%capture\n",
    "#This imports the libraries and tools needed for an RNN. For this example we will be using the tensorflow.keras library.\n",
    "!pip install --upgrade tensorflow;\n",
    "\n",
    "import numpy as np;\n",
    "import tensorflow as tf;\n",
    "from tensorflow import keras;\n",
    "from tensorflow.keras import layers;"
   ]
  },
  {
   "cell_type": "markdown",
   "id": "b0ac7f50",
   "metadata": {},
   "source": [
    "Here we are actually creating the RNN. Raven will also be implementing a LSTM model and both the RNN and the LSTM are closely related. This is also just an example and is subject to change as it is added to Raven."
   ]
  },
  {
   "cell_type": "code",
   "execution_count": 7,
   "id": "bb7df3ec",
   "metadata": {},
   "outputs": [
    {
     "name": "stdout",
     "output_type": "stream",
     "text": [
      "Model: \"sequential_1\"\n",
      "_________________________________________________________________\n",
      "Layer (type)                 Output Shape              Param #   \n",
      "=================================================================\n",
      "embedding_1 (Embedding)      (None, None, 64)          64000     \n",
      "_________________________________________________________________\n",
      "embedding_2 (Embedding)      (None, None, 64, 64)      64000     \n",
      "_________________________________________________________________\n",
      "dense (Dense)                (None, None, 64, 10)      650       \n",
      "=================================================================\n",
      "Total params: 128,650\n",
      "Trainable params: 128,650\n",
      "Non-trainable params: 0\n",
      "_________________________________________________________________\n"
     ]
    }
   ],
   "source": [
    "#Create the Model\n",
    "model = keras.Sequential()\n",
    "# Add an Embedding layer expecting input vocab of size 1000, and\n",
    "# output embedding dimension of size 64.\n",
    "model.add(layers.Embedding(input_dim=1000, output_dim=64))\n",
    "\n",
    "model.add(layers.Embedding(input_dim=1000, output_dim=64))\n",
    "\n",
    "# Add a Dense layer with 10 units.\n",
    "model.add(layers.Dense(10))\n",
    "\n",
    "model.summary()"
   ]
  },
  {
   "cell_type": "markdown",
   "id": "273b499e",
   "metadata": {},
   "source": [
    "As we can see we now have a nueral network constructed that can take in inputs. "
   ]
  }
 ],
 "metadata": {
  "kernelspec": {
   "display_name": "Python 3",
   "language": "python",
   "name": "python3"
  },
  "language_info": {
   "codemirror_mode": {
    "name": "ipython",
    "version": 3
   },
   "file_extension": ".py",
   "mimetype": "text/x-python",
   "name": "python",
   "nbconvert_exporter": "python",
   "pygments_lexer": "ipython3",
   "version": "3.9.1"
  }
 },
 "nbformat": 4,
 "nbformat_minor": 5
}
