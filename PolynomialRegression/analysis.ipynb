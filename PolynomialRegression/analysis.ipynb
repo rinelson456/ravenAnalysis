{
 "cells": [
  {
   "cell_type": "markdown",
   "id": "dc24631d",
   "metadata": {},
   "source": [
    "# What is Polynomial Regression?\n",
    "\n",
    "Polynomial Regression is another algorithm used to characterize signals and generate a synthetic history. Polynomial regression is similar to Auto regression in that it relies on historic inputs to make predictions. Likewise Polynomial Regression is very similar to linear regression as it draws a line between the data points. The major difference is that linear regression will generate a straight line through the data points which often leaves significant outliers in the data whereas the polynomial regression will generate a line that curves based on the data better fitting the data presented.\n",
    "\n",
    "# Disease Example\n",
    "\n",
    "Polynomial regression has a wide variety of applications, but the most common application in polynomial regression is with predicting the infection rate of diseases. It has been used in numerous cases both small and world wide. The function to compute this is found below."
   ]
  },
  {
   "cell_type": "markdown",
   "id": "ea2a9639",
   "metadata": {},
   "source": [
    "$ y = \\beta_{0} + \\beta_{1}x + \\beta_{2}x^{2} + ... + \\beta_{n}x^{n} + \\epsilon $"
   ]
  },
  {
   "cell_type": "markdown",
   "id": "fff12341",
   "metadata": {},
   "source": [
    "The Result of the algorithm would be the predicted infection rate of a given disease.\n",
    "\n",
    "# Polynomial Regression in Raven\n",
    "\n",
    "For Raven polynomial regression has a clear connection. We find that often the signals originating from reactors vary significantly due to multiple factors. Polynomial regression provides us with a clearer prediction with fewer errors than a linear model would in this case. Polynomial regression can be used to accurately characterize the signals originating from the reactor and generate synthetic histories from the parameters.\n",
    "\n",
    "# Code\n",
    "\n",
    "Below is a coded demonstration of Polynomial regression using datasets from the CDC database. These datasets are focused on the infectious rates of the Chikungunya virus, and the number of smokers per day."
   ]
  },
  {
   "cell_type": "code",
   "execution_count": 99,
   "id": "c1ccca2f",
   "metadata": {},
   "outputs": [
    {
     "name": "stdout",
     "output_type": "stream",
     "text": [
      "Requirement already satisfied: statsmodels in c:\\users\\admin\\miniconda3\\lib\\site-packages (0.12.2)\n",
      "Requirement already satisfied: pandas>=0.21 in c:\\users\\admin\\miniconda3\\lib\\site-packages (from statsmodels) (1.2.4)\n",
      "Requirement already satisfied: numpy>=1.15 in c:\\users\\admin\\miniconda3\\lib\\site-packages (from statsmodels) (1.20.2)\n",
      "Requirement already satisfied: patsy>=0.5 in c:\\users\\admin\\miniconda3\\lib\\site-packages (from statsmodels) (0.5.1)\n",
      "Requirement already satisfied: scipy>=1.1 in c:\\users\\admin\\miniconda3\\lib\\site-packages (from statsmodels) (1.6.2)\n",
      "Requirement already satisfied: numpy>=1.15 in c:\\users\\admin\\miniconda3\\lib\\site-packages (from statsmodels) (1.20.2)\n",
      "Requirement already satisfied: pytz>=2017.3 in c:\\users\\admin\\miniconda3\\lib\\site-packages (from pandas>=0.21->statsmodels) (2021.1)\n",
      "Requirement already satisfied: python-dateutil>=2.7.3 in c:\\users\\admin\\miniconda3\\lib\\site-packages (from pandas>=0.21->statsmodels) (2.8.1)\n",
      "Requirement already satisfied: numpy>=1.15 in c:\\users\\admin\\miniconda3\\lib\\site-packages (from statsmodels) (1.20.2)\n",
      "Requirement already satisfied: six in c:\\users\\admin\\miniconda3\\lib\\site-packages (from patsy>=0.5->statsmodels) (1.15.0)\n",
      "Requirement already satisfied: six in c:\\users\\admin\\miniconda3\\lib\\site-packages (from patsy>=0.5->statsmodels) (1.15.0)\n",
      "Requirement already satisfied: numpy>=1.15 in c:\\users\\admin\\miniconda3\\lib\\site-packages (from statsmodels) (1.20.2)\n",
      "Requirement already satisfied: matplotlib in c:\\users\\admin\\miniconda3\\lib\\site-packages (3.4.1)\n",
      "Requirement already satisfied: pillow>=6.2.0 in c:\\users\\admin\\miniconda3\\lib\\site-packages (from matplotlib) (8.2.0)\n",
      "Requirement already satisfied: kiwisolver>=1.0.1 in c:\\users\\admin\\miniconda3\\lib\\site-packages (from matplotlib) (1.3.1)\n",
      "Requirement already satisfied: numpy>=1.16 in c:\\users\\admin\\miniconda3\\lib\\site-packages (from matplotlib) (1.20.2)\n",
      "Requirement already satisfied: pyparsing>=2.2.1 in c:\\users\\admin\\miniconda3\\lib\\site-packages (from matplotlib) (2.4.7)\n",
      "Requirement already satisfied: cycler>=0.10 in c:\\users\\admin\\miniconda3\\lib\\site-packages (from matplotlib) (0.10.0)\n",
      "Requirement already satisfied: python-dateutil>=2.7 in c:\\users\\admin\\miniconda3\\lib\\site-packages (from matplotlib) (2.8.1)\n",
      "Requirement already satisfied: six in c:\\users\\admin\\miniconda3\\lib\\site-packages (from cycler>=0.10->matplotlib) (1.15.0)\n",
      "Requirement already satisfied: six in c:\\users\\admin\\miniconda3\\lib\\site-packages (from cycler>=0.10->matplotlib) (1.15.0)\n"
     ]
    }
   ],
   "source": [
    "!pip install statsmodels\n",
    "!pip install matplotlib\n",
    "\n",
    "import numpy as np\n",
    "import pandas as pd\n",
    "import matplotlib.pyplot as plt\n",
    "import statsmodels.tsa.stattools as sm"
   ]
  },
  {
   "cell_type": "code",
   "execution_count": 100,
   "id": "f96b7380",
   "metadata": {},
   "outputs": [
    {
     "data": {
      "text/html": [
       "<div>\n",
       "<style scoped>\n",
       "    .dataframe tbody tr th:only-of-type {\n",
       "        vertical-align: middle;\n",
       "    }\n",
       "\n",
       "    .dataframe tbody tr th {\n",
       "        vertical-align: top;\n",
       "    }\n",
       "\n",
       "    .dataframe thead th {\n",
       "        text-align: right;\n",
       "    }\n",
       "</style>\n",
       "<table border=\"1\" class=\"dataframe\">\n",
       "  <thead>\n",
       "    <tr style=\"text-align: right;\">\n",
       "      <th></th>\n",
       "      <th>location</th>\n",
       "      <th>month</th>\n",
       "      <th>pLocalTransmissionAve</th>\n",
       "      <th>pLocalTransmissionMin</th>\n",
       "      <th>pLocalTransmissionMax</th>\n",
       "      <th>localcases</th>\n",
       "    </tr>\n",
       "  </thead>\n",
       "  <tbody>\n",
       "    <tr>\n",
       "      <th>0</th>\n",
       "      <td>Nassau</td>\n",
       "      <td>12/01/2013 12:00:00 AM</td>\n",
       "      <td>0.01</td>\n",
       "      <td>0.00</td>\n",
       "      <td>0.02</td>\n",
       "      <td>0</td>\n",
       "    </tr>\n",
       "    <tr>\n",
       "      <th>1</th>\n",
       "      <td>Atlantic City</td>\n",
       "      <td>12/01/2013 12:00:00 AM</td>\n",
       "      <td>0.00</td>\n",
       "      <td>0.00</td>\n",
       "      <td>0.00</td>\n",
       "      <td>0</td>\n",
       "    </tr>\n",
       "    <tr>\n",
       "      <th>2</th>\n",
       "      <td>Buenos Aires</td>\n",
       "      <td>12/01/2013 12:00:00 AM</td>\n",
       "      <td>0.00</td>\n",
       "      <td>0.00</td>\n",
       "      <td>0.01</td>\n",
       "      <td>0</td>\n",
       "    </tr>\n",
       "    <tr>\n",
       "      <th>3</th>\n",
       "      <td>Antigua</td>\n",
       "      <td>12/01/2013 12:00:00 AM</td>\n",
       "      <td>0.09</td>\n",
       "      <td>0.01</td>\n",
       "      <td>0.23</td>\n",
       "      <td>0</td>\n",
       "    </tr>\n",
       "    <tr>\n",
       "      <th>4</th>\n",
       "      <td>Atlanta</td>\n",
       "      <td>12/01/2013 12:00:00 AM</td>\n",
       "      <td>0.00</td>\n",
       "      <td>0.00</td>\n",
       "      <td>0.00</td>\n",
       "      <td>0</td>\n",
       "    </tr>\n",
       "    <tr>\n",
       "      <th>...</th>\n",
       "      <td>...</td>\n",
       "      <td>...</td>\n",
       "      <td>...</td>\n",
       "      <td>...</td>\n",
       "      <td>...</td>\n",
       "      <td>...</td>\n",
       "    </tr>\n",
       "    <tr>\n",
       "      <th>4160</th>\n",
       "      <td>Beirut</td>\n",
       "      <td>03/01/2014 12:00:00 AM</td>\n",
       "      <td>0.00</td>\n",
       "      <td>0.00</td>\n",
       "      <td>0.00</td>\n",
       "      <td>0</td>\n",
       "    </tr>\n",
       "    <tr>\n",
       "      <th>4161</th>\n",
       "      <td>Valencia</td>\n",
       "      <td>12/01/2013 12:00:00 AM</td>\n",
       "      <td>0.00</td>\n",
       "      <td>0.00</td>\n",
       "      <td>0.00</td>\n",
       "      <td>0</td>\n",
       "    </tr>\n",
       "    <tr>\n",
       "      <th>4162</th>\n",
       "      <td>Bonaire</td>\n",
       "      <td>11/01/2014 12:00:00 AM</td>\n",
       "      <td>0.99</td>\n",
       "      <td>0.83</td>\n",
       "      <td>1.00</td>\n",
       "      <td>0</td>\n",
       "    </tr>\n",
       "    <tr>\n",
       "      <th>4163</th>\n",
       "      <td>Bilbao</td>\n",
       "      <td>12/01/2013 12:00:00 AM</td>\n",
       "      <td>0.00</td>\n",
       "      <td>0.00</td>\n",
       "      <td>0.00</td>\n",
       "      <td>0</td>\n",
       "    </tr>\n",
       "    <tr>\n",
       "      <th>4164</th>\n",
       "      <td>Tunis</td>\n",
       "      <td>05/01/2014 12:00:00 AM</td>\n",
       "      <td>0.04</td>\n",
       "      <td>0.00</td>\n",
       "      <td>0.27</td>\n",
       "      <td>0</td>\n",
       "    </tr>\n",
       "  </tbody>\n",
       "</table>\n",
       "<p>4165 rows × 6 columns</p>\n",
       "</div>"
      ],
      "text/plain": [
       "           location                   month  pLocalTransmissionAve  \\\n",
       "0            Nassau  12/01/2013 12:00:00 AM                   0.01   \n",
       "1     Atlantic City  12/01/2013 12:00:00 AM                   0.00   \n",
       "2      Buenos Aires  12/01/2013 12:00:00 AM                   0.00   \n",
       "3           Antigua  12/01/2013 12:00:00 AM                   0.09   \n",
       "4           Atlanta  12/01/2013 12:00:00 AM                   0.00   \n",
       "...             ...                     ...                    ...   \n",
       "4160         Beirut  03/01/2014 12:00:00 AM                   0.00   \n",
       "4161       Valencia  12/01/2013 12:00:00 AM                   0.00   \n",
       "4162        Bonaire  11/01/2014 12:00:00 AM                   0.99   \n",
       "4163         Bilbao  12/01/2013 12:00:00 AM                   0.00   \n",
       "4164          Tunis  05/01/2014 12:00:00 AM                   0.04   \n",
       "\n",
       "      pLocalTransmissionMin  pLocalTransmissionMax  localcases  \n",
       "0                      0.00                   0.02           0  \n",
       "1                      0.00                   0.00           0  \n",
       "2                      0.00                   0.01           0  \n",
       "3                      0.01                   0.23           0  \n",
       "4                      0.00                   0.00           0  \n",
       "...                     ...                    ...         ...  \n",
       "4160                   0.00                   0.00           0  \n",
       "4161                   0.00                   0.00           0  \n",
       "4162                   0.83                   1.00           0  \n",
       "4163                   0.00                   0.00           0  \n",
       "4164                   0.00                   0.27           0  \n",
       "\n",
       "[4165 rows x 6 columns]"
      ]
     },
     "execution_count": 100,
     "metadata": {},
     "output_type": "execute_result"
    }
   ],
   "source": [
    "df = pd.read_csv(\"Nowcast_Predictions_for_Local_Transmission_of_Chikungunya_Virus.csv\")\n"
   ]
  },
  {
   "cell_type": "code",
   "execution_count": 115,
   "id": "73476f8d",
   "metadata": {},
   "outputs": [],
   "source": [
    "df = pd.read_csv(\"localcases_0.csv\")"
   ]
  },
  {
   "cell_type": "code",
   "execution_count": 116,
   "id": "58d3b50c",
   "metadata": {},
   "outputs": [],
   "source": [
    "data = pd.read_csv('localcases.csv')"
   ]
  },
  {
   "cell_type": "code",
   "execution_count": 117,
   "id": "3a711628",
   "metadata": {},
   "outputs": [
    {
     "name": "stdout",
     "output_type": "stream",
     "text": [
      "         x         y\n",
      "0        0  0.205485\n",
      "1        1  0.205525\n",
      "2        2  0.205565\n",
      "3        3  0.205606\n",
      "4        4  0.205646\n",
      "...    ...       ...\n",
      "4160  4160 -0.079072\n",
      "4161  4161 -0.079249\n",
      "4162  4162 -0.079426\n",
      "4163  4163 -0.079603\n",
      "4164  4164 -0.079780\n",
      "\n",
      "[4165 rows x 2 columns]\n"
     ]
    },
    {
     "data": {
      "image/png": "[encoded data removed]",
      "text/plain": [
       "<Figure size 432x288 with 1 Axes>"
      ]
     },
     "metadata": {
      "needs_background": "light"
     },
     "output_type": "display_data"
    }
   ],
   "source": [
    "x = df.x\n",
    "y = df.y\n",
    "\n",
    "# plt.plot(x, y, 'o')\n",
    "# plt.show()\n",
    "\n",
    "dat = pd.DataFrame({'x': x, 'y': y})\n",
    "dat.to_csv('localcases.csv', index=False)\n",
    "\n",
    "dat = pd.read_csv('localcases_0.csv')\n",
    "print(dat)\n",
    "\n",
    "plt.plot(x, y, 'o', alpha=0.5, color='red')\n",
    "plt.plot(dat.x, dat.y)\n",
    "plt.show()"
   ]
  },
  {
   "cell_type": "code",
   "execution_count": 114,
   "id": "255b580c",
   "metadata": {},
   "outputs": [],
   "source": [
    "df = pd.read_csv(\"2011_combined_smokers__everyday_and_some_days__by_National__State_or_US_Territories.csv\")\n"
   ]
  },
  {
   "cell_type": "code",
   "execution_count": 104,
   "id": "922d50fe",
   "metadata": {},
   "outputs": [],
   "source": [
    "df = pd.read_csv(\"regression_A_0.csv\")\n"
   ]
  },
  {
   "cell_type": "code",
   "execution_count": 105,
   "id": "ff316b76",
   "metadata": {},
   "outputs": [],
   "source": [
    "data = pd.read_csv('samples_0.csv')\n"
   ]
  },
  {
   "cell_type": "code",
   "execution_count": 106,
   "id": "a5ca9476",
   "metadata": {},
   "outputs": [
    {
     "name": "stdout",
     "output_type": "stream",
     "text": [
      "       x          y\n",
      "0    0.0  14.690219\n",
      "1    1.0  14.712705\n",
      "2    2.0  14.735647\n",
      "3    3.0  14.759044\n",
      "4    4.0  14.782897\n",
      "5    5.0  14.807205\n",
      "6    6.0  14.831968\n",
      "7    7.0  14.857186\n",
      "8    8.0  14.882860\n",
      "9    9.0  14.908989\n",
      "10  10.0  14.935574\n",
      "11  11.0  14.962613\n",
      "12  12.0  14.990109\n",
      "13  13.0  15.018059\n",
      "14  14.0  15.046465\n",
      "15  15.0  15.075326\n",
      "16  16.0  15.104642\n",
      "17  17.0  15.134414\n",
      "18  18.0  15.164641\n",
      "19  19.0  15.195323\n",
      "20  20.0  15.226461\n",
      "21  21.0  15.258054\n",
      "22  22.0  15.290103\n",
      "23  23.0  15.322606\n",
      "24  24.0  15.355565\n",
      "25  25.0  15.388980\n",
      "26  26.0  15.422849\n",
      "27  27.0  15.457174\n",
      "28  28.0  15.491955\n",
      "29  29.0  15.527190\n",
      "30  30.0  15.562881\n",
      "31  31.0  15.599028\n",
      "32  32.0  15.635629\n",
      "33  33.0  15.672686\n",
      "34  34.0  15.710199\n",
      "35  35.0  15.748166\n",
      "36  36.0  15.786589\n",
      "37  37.0  15.825467\n",
      "38  38.0  15.864801\n",
      "39  39.0  15.904590\n",
      "40  40.0  15.944834\n",
      "41  41.0  15.985534\n",
      "42  42.0  16.026689\n",
      "43  43.0  16.068299\n",
      "44  44.0  16.110364\n",
      "45  45.0  16.152885\n",
      "46  46.0  16.195861\n",
      "47  47.0  16.239293\n",
      "48  48.0  16.283180\n",
      "49  49.0  16.327522\n",
      "50  50.0  16.372320\n",
      "51  51.0  16.417572\n",
      "52  52.0  16.463281\n",
      "53  53.0  16.509444\n",
      "54  54.0  16.556063\n"
     ]
    },
    {
     "data": {
      "image/png": "[encoded data removed]",
      "text/plain": [
       "<Figure size 432x288 with 1 Axes>"
      ]
     },
     "metadata": {
      "needs_background": "light"
     },
     "output_type": "display_data"
    }
   ],
   "source": [
    "x = data.x\n",
    "y = data.y\n",
    "\n",
    "# plt.plot(x, y, 'o')\n",
    "# plt.show()\n",
    "\n",
    "dat = pd.DataFrame({'x': x, 'y': y})\n",
    "dat.to_csv('regression_A_0.csv', index=False)\n",
    "\n",
    "dat = pd.read_csv('samples_0.csv')\n",
    "print(dat)\n",
    "\n",
    "plt.plot(x, y, 'o', alpha=0.5, color='red')\n",
    "plt.plot(dat.x, dat.y)\n",
    "plt.show()"
   ]
  },
  {
   "cell_type": "markdown",
   "id": "07229651",
   "metadata": {},
   "source": [
    "# Polynomial Regression in Raven Example\n",
    "\n",
    "Here we see the same polynomial regression applied to Raven. The first Example shows the smoking predictions.\n"
   ]
  },
  {
   "cell_type": "code",
   "execution_count": 107,
   "id": "ea46e660",
   "metadata": {},
   "outputs": [],
   "source": [
    "df = pd.read_csv(\"regression_A_0.csv\")\n"
   ]
  },
  {
   "cell_type": "code",
   "execution_count": 108,
   "id": "5d2360af",
   "metadata": {},
   "outputs": [],
   "source": [
    "data = pd.read_csv('samples_0.csv')\n"
   ]
  },
  {
   "cell_type": "code",
   "execution_count": 109,
   "id": "aa2700ca",
   "metadata": {},
   "outputs": [
    {
     "name": "stdout",
     "output_type": "stream",
     "text": [
      "       x          y\n",
      "0    0.0  14.690219\n",
      "1    1.0  14.712705\n",
      "2    2.0  14.735647\n",
      "3    3.0  14.759044\n",
      "4    4.0  14.782897\n",
      "5    5.0  14.807205\n",
      "6    6.0  14.831968\n",
      "7    7.0  14.857186\n",
      "8    8.0  14.882860\n",
      "9    9.0  14.908989\n",
      "10  10.0  14.935574\n",
      "11  11.0  14.962613\n",
      "12  12.0  14.990109\n",
      "13  13.0  15.018059\n",
      "14  14.0  15.046465\n",
      "15  15.0  15.075326\n",
      "16  16.0  15.104642\n",
      "17  17.0  15.134414\n",
      "18  18.0  15.164641\n",
      "19  19.0  15.195323\n",
      "20  20.0  15.226461\n",
      "21  21.0  15.258054\n",
      "22  22.0  15.290103\n",
      "23  23.0  15.322606\n",
      "24  24.0  15.355565\n",
      "25  25.0  15.388980\n",
      "26  26.0  15.422849\n",
      "27  27.0  15.457174\n",
      "28  28.0  15.491955\n",
      "29  29.0  15.527190\n",
      "30  30.0  15.562881\n",
      "31  31.0  15.599028\n",
      "32  32.0  15.635629\n",
      "33  33.0  15.672686\n",
      "34  34.0  15.710199\n",
      "35  35.0  15.748166\n",
      "36  36.0  15.786589\n",
      "37  37.0  15.825467\n",
      "38  38.0  15.864801\n",
      "39  39.0  15.904590\n",
      "40  40.0  15.944834\n",
      "41  41.0  15.985534\n",
      "42  42.0  16.026689\n",
      "43  43.0  16.068299\n",
      "44  44.0  16.110364\n",
      "45  45.0  16.152885\n",
      "46  46.0  16.195861\n",
      "47  47.0  16.239293\n",
      "48  48.0  16.283180\n",
      "49  49.0  16.327522\n",
      "50  50.0  16.372320\n",
      "51  51.0  16.417572\n",
      "52  52.0  16.463281\n",
      "53  53.0  16.509444\n",
      "54  54.0  16.556063\n"
     ]
    },
    {
     "data": {
      "image/png": "[encoded data removed]",
      "text/plain": [
       "<Figure size 432x288 with 1 Axes>"
      ]
     },
     "metadata": {
      "needs_background": "light"
     },
     "output_type": "display_data"
    }
   ],
   "source": [
    "\n",
    "x = data.x\n",
    "y = data.y\n",
    "\n",
    "# plt.plot(x, y, 'o')\n",
    "# plt.show()\n",
    "\n",
    "dat = pd.DataFrame({'x': x, 'y': y})\n",
    "dat.to_csv('regression_A_0.csv', index=False)\n",
    "\n",
    "dat = pd.read_csv('samples_0.csv')\n",
    "print(dat)\n",
    "\n",
    "plt.plot(x, y, 'o', alpha=0.5, color='red')\n",
    "plt.plot(dat.x, dat.y)\n",
    "plt.show()"
   ]
  },
  {
   "cell_type": "code",
   "execution_count": 110,
   "id": "3676bc5e",
   "metadata": {},
   "outputs": [
    {
     "data": {
      "text/html": [
       "<div>\n",
       "<style scoped>\n",
       "    .dataframe tbody tr th:only-of-type {\n",
       "        vertical-align: middle;\n",
       "    }\n",
       "\n",
       "    .dataframe tbody tr th {\n",
       "        vertical-align: top;\n",
       "    }\n",
       "\n",
       "    .dataframe thead th {\n",
       "        text-align: right;\n",
       "    }\n",
       "</style>\n",
       "<table border=\"1\" class=\"dataframe\">\n",
       "  <thead>\n",
       "    <tr style=\"text-align: right;\">\n",
       "      <th></th>\n",
       "      <th>x</th>\n",
       "      <th>y</th>\n",
       "    </tr>\n",
       "  </thead>\n",
       "  <tbody>\n",
       "    <tr>\n",
       "      <th>0</th>\n",
       "      <td>0</td>\n",
       "      <td>0.205485</td>\n",
       "    </tr>\n",
       "    <tr>\n",
       "      <th>1</th>\n",
       "      <td>1</td>\n",
       "      <td>0.205525</td>\n",
       "    </tr>\n",
       "    <tr>\n",
       "      <th>2</th>\n",
       "      <td>2</td>\n",
       "      <td>0.205565</td>\n",
       "    </tr>\n",
       "    <tr>\n",
       "      <th>3</th>\n",
       "      <td>3</td>\n",
       "      <td>0.205606</td>\n",
       "    </tr>\n",
       "    <tr>\n",
       "      <th>4</th>\n",
       "      <td>4</td>\n",
       "      <td>0.205646</td>\n",
       "    </tr>\n",
       "    <tr>\n",
       "      <th>...</th>\n",
       "      <td>...</td>\n",
       "      <td>...</td>\n",
       "    </tr>\n",
       "    <tr>\n",
       "      <th>4160</th>\n",
       "      <td>4160</td>\n",
       "      <td>-0.079072</td>\n",
       "    </tr>\n",
       "    <tr>\n",
       "      <th>4161</th>\n",
       "      <td>4161</td>\n",
       "      <td>-0.079249</td>\n",
       "    </tr>\n",
       "    <tr>\n",
       "      <th>4162</th>\n",
       "      <td>4162</td>\n",
       "      <td>-0.079426</td>\n",
       "    </tr>\n",
       "    <tr>\n",
       "      <th>4163</th>\n",
       "      <td>4163</td>\n",
       "      <td>-0.079603</td>\n",
       "    </tr>\n",
       "    <tr>\n",
       "      <th>4164</th>\n",
       "      <td>4164</td>\n",
       "      <td>-0.079780</td>\n",
       "    </tr>\n",
       "  </tbody>\n",
       "</table>\n",
       "<p>4165 rows × 2 columns</p>\n",
       "</div>"
      ],
      "text/plain": [
       "         x         y\n",
       "0        0  0.205485\n",
       "1        1  0.205525\n",
       "2        2  0.205565\n",
       "3        3  0.205606\n",
       "4        4  0.205646\n",
       "...    ...       ...\n",
       "4160  4160 -0.079072\n",
       "4161  4161 -0.079249\n",
       "4162  4162 -0.079426\n",
       "4163  4163 -0.079603\n",
       "4164  4164 -0.079780\n",
       "\n",
       "[4165 rows x 2 columns]"
      ]
     },
     "execution_count": 110,
     "metadata": {},
     "output_type": "execute_result"
    }
   ],
   "source": [
    "data = pd.read_csv('localcases_0.csv')\n",
    "data"
   ]
  },
  {
   "cell_type": "code",
   "execution_count": 111,
   "id": "a44392c0",
   "metadata": {},
   "outputs": [
    {
     "name": "stdout",
     "output_type": "stream",
     "text": [
      "         x         y\n",
      "0        0  0.205485\n",
      "1        1  0.205525\n",
      "2        2  0.205565\n",
      "3        3  0.205606\n",
      "4        4  0.205646\n",
      "...    ...       ...\n",
      "4160  4160 -0.079072\n",
      "4161  4161 -0.079249\n",
      "4162  4162 -0.079426\n",
      "4163  4163 -0.079603\n",
      "4164  4164 -0.079780\n",
      "\n",
      "[4165 rows x 2 columns]\n"
     ]
    },
    {
     "data": {
      "image/png": "[encoded data removed]",
      "text/plain": [
       "<Figure size 432x288 with 1 Axes>"
      ]
     },
     "metadata": {
      "needs_background": "light"
     },
     "output_type": "display_data"
    }
   ],
   "source": [
    "x = data.x\n",
    "y = data.y\n",
    "\n",
    "# plt.plot(x, y, 'o')\n",
    "# plt.show()\n",
    "\n",
    "dat = pd.DataFrame({'x': x, 'y': y})\n",
    "dat.to_csv('localcases.csv', index=False)\n",
    "\n",
    "dat = pd.read_csv('localcases_0.csv')\n",
    "print(dat)\n",
    "\n",
    "plt.plot(x, y, 'o', alpha=0.5, color='red')\n",
    "plt.plot(dat.x, dat.y)\n",
    "plt.show()"
   ]
  },
  {
   "cell_type": "code",
   "execution_count": null,
   "id": "9614d172",
   "metadata": {},
   "outputs": [],
   "source": []
  }
 ],
 "metadata": {
  "kernelspec": {
   "display_name": "Python 3",
   "language": "python",
   "name": "python3"
  },
  "language_info": {
   "codemirror_mode": {
    "name": "ipython",
    "version": 3
   },
   "file_extension": ".py",
   "mimetype": "text/x-python",
   "name": "python",
   "nbconvert_exporter": "python",
   "pygments_lexer": "ipython3",
   "version": "3.9.1"
  }
 },
 "nbformat": 4,
 "nbformat_minor": 5
}
